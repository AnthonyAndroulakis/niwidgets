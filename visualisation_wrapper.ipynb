{
 "cells": [
  {
   "cell_type": "code",
   "execution_count": 1,
   "metadata": {
    "collapsed": false,
    "deletable": true,
    "editable": true
   },
   "outputs": [
    {
     "name": "stderr",
     "output_type": "stream",
     "text": [
      "/Library/anaconda/envs/rbbrainhack/lib/python2.7/site-packages/sklearn/cross_validation.py:44: DeprecationWarning: This module was deprecated in version 0.18 in favor of the model_selection module into which all the refactored classes and functions are moved. Also note that the interface of the new CV iterators are different from that of this module. This module will be removed in 0.20.\n",
      "  \"This module will be removed in 0.20.\", DeprecationWarning)\n"
     ]
    }
   ],
   "source": [
    "from __future__ import print_function\n",
    "import nilearn.plotting as nip\n",
    "import nibabel as nib\n",
    "import matplotlib.pyplot as plt\n",
    "import numpy as np\n",
    "from ipywidgets import interact,fixed\n",
    "import inspect\n",
    "\n",
    "class NiWidget:\n",
    "    def __init__(self,filename,plotthis='dataobj'):\n",
    "        self.filename = filename\n",
    "        \n",
    "\n",
    "\n",
    "    def plot_slices(self, data, x, y, z, Colormap='viridis'):\n",
    "\n",
    "        fig,axes=plt.subplots(1,3, figsize = (15, 5))\n",
    "        axes[0].imshow(np.rot90(data[:,y,:]), cmap = Colormap)\n",
    "        axes[1].imshow(np.rot90(data[x,:,:]), cmap = Colormap)\n",
    "        axes[2].imshow(np.rot90(data[:,:,z]), cmap = Colormap)\n",
    "        plt.show()\n",
    "\n",
    "\n",
    "    def plot_wrapper(self, data, **kwargs):\n",
    "        self.plotting_func(data, **kwargs)\n",
    "        plt.show()\n",
    "\n",
    "\n",
    "    def nifti_plotter(self,plotting_func=None, **kwargs):\n",
    "        \n",
    "        self.plotting_func = plotting_func\n",
    "        #if no plotting function is specified: use default\n",
    "        if self.plotting_func is None:\n",
    "            self.data = nib.load(self.filename).dataobj\n",
    "            kwargs = {'x': (0,self.data.shape[0]-1),\n",
    "                         'y': (0,self.data.shape[1]-1),\n",
    "                         'z': (0,self.data.shape[2]-1),\n",
    "                         'Colormap': ['jet','viridis','gray']\n",
    "                         }         \n",
    "            interact(self.plot_slices, data = fixed(self.data), **kwargs)\n",
    "\n",
    "        else:\n",
    "            self.data = nib.load(self.filename)\n",
    "            interact(self.plot_wrapper, data=fixed(self.data), **kwargs)"
   ]
  },
  {
   "cell_type": "code",
   "execution_count": 2,
   "metadata": {
    "collapsed": false,
    "deletable": true,
    "editable": true
   },
   "outputs": [
    {
     "data": {
      "application/vnd.jupyter.widget-view+json": {
       "model_id": "c7238acb78dc468daa6c8354bdf1458c"
      }
     },
     "metadata": {},
     "output_type": "display_data"
    }
   ],
   "source": [
    "test = NiWidget('cc400_roi_atlas.nii')\n",
    "test.nifti_plotter()"
   ]
  },
  {
   "cell_type": "markdown",
   "metadata": {},
   "source": [
    "### This works now I believe!\n",
    "\n",
    "I think this allows you to pass custom arguments but doesn't fail if there are none\n",
    "\n",
    "What I did was create a tiny wrapper function that \"forwards\" all the arguments to the plotting function. I also made the plotting_func a `self.` property that is now accessible by subfunctions since they always get passed `self` anyways."
   ]
  },
  {
   "cell_type": "code",
   "execution_count": 3,
   "metadata": {
    "collapsed": false
   },
   "outputs": [
    {
     "data": {
      "application/vnd.jupyter.widget-view+json": {
       "model_id": "4ff24f90f2364d9e91c2218be5e87c91"
      }
     },
     "metadata": {},
     "output_type": "display_data"
    }
   ],
   "source": [
    "# With kwargs\n",
    "test = NiWidget('cc400_roi_atlas.nii')\n",
    "test.nifti_plotter(plotting_func=nip.plot_glass_brain, threshold=(0,400), display_mode=['ortho','xz'])"
   ]
  },
  {
   "cell_type": "code",
   "execution_count": 5,
   "metadata": {
    "collapsed": false
   },
   "outputs": [
    {
     "data": {
      "application/vnd.jupyter.widget-view+json": {
       "model_id": "26d15fc6e9c247f6b68f4e33bbf1a8a6"
      }
     },
     "metadata": {},
     "output_type": "display_data"
    }
   ],
   "source": [
    "# without kwargs (basically just a plot)\n",
    "test = NiWidget('cc400_roi_atlas.nii')\n",
    "test.nifti_plotter(plotting_func=nip.plot_glass_brain)"
   ]
  },
  {
   "cell_type": "markdown",
   "metadata": {},
   "source": []
  },
  {
   "cell_type": "code",
   "execution_count": null,
   "metadata": {
    "collapsed": false,
    "deletable": true,
    "editable": true,
    "scrolled": true
   },
   "outputs": [],
   "source": [
    "def plot_glass_threshold(stat_map_img,threshold,display_mode):\n",
    "    nip.plot_glass_brain(stat_map_img, threshold=threshold, display_mode=display_mode)\n",
    "    plt.show()\n",
    "\n",
    "fname = 'cc400_roi_atlas.nii'\n",
    "\n",
    "kwarg_dict = {'stat_map_img': fixed(fname),\n",
    "            'threshold': (0,400),\n",
    "             'display_mode': ['ortho','xz']\n",
    "             }\n",
    "\n",
    "interact(plot_glass_threshold,**kwarg_dict)"
   ]
  },
  {
   "cell_type": "code",
   "execution_count": null,
   "metadata": {
    "collapsed": false,
    "deletable": true,
    "editable": true
   },
   "outputs": [],
   "source": [
    "#right now this does the same as the above\n",
    "test.nifti_plotter(plot_glass_threshold,**kwarg_dict)"
   ]
  },
  {
   "cell_type": "code",
   "execution_count": null,
   "metadata": {
    "collapsed": true,
    "deletable": true,
    "editable": true
   },
   "outputs": [],
   "source": []
  }
 ],
 "metadata": {
  "kernelspec": {
   "display_name": "Python 2",
   "language": "python",
   "name": "python2"
  },
  "language_info": {
   "codemirror_mode": {
    "name": "ipython",
    "version": 2
   },
   "file_extension": ".py",
   "mimetype": "text/x-python",
   "name": "python",
   "nbconvert_exporter": "python",
   "pygments_lexer": "ipython2",
   "version": "2.7.12"
  },
  "widgets": {
   "state": {
    "564451707c714709a6ceab22735bd1e8": {
     "views": [
      {
       "cell_index": 1
      }
     ]
    },
    "81d0db33e98a440c954abe7ce3f5bee4": {
     "views": [
      {
       "cell_index": 4
      }
     ]
    },
    "d1e35c2c57584483992c16960bbe2019": {
     "views": [
      {
       "cell_index": 4
      }
     ]
    },
    "f280d7a629bb4aedbf5b4eae89ee5f16": {
     "views": [
      {
       "cell_index": 5
      }
     ]
    }
   },
   "version": "1.2.0"
  }
 },
 "nbformat": 4,
 "nbformat_minor": 2
}
