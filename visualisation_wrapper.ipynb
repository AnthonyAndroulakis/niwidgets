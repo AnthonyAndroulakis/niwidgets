{
 "cells": [
  {
   "cell_type": "code",
   "execution_count": 1,
   "metadata": {
    "collapsed": false,
    "deletable": true,
    "editable": true
   },
   "outputs": [
    {
     "name": "stderr",
     "output_type": "stream",
     "text": [
      "/Library/anaconda/envs/rbbrainhack/lib/python2.7/site-packages/sklearn/cross_validation.py:44: DeprecationWarning: This module was deprecated in version 0.18 in favor of the model_selection module into which all the refactored classes and functions are moved. Also note that the interface of the new CV iterators are different from that of this module. This module will be removed in 0.20.\n",
      "  \"This module will be removed in 0.20.\", DeprecationWarning)\n"
     ]
    }
   ],
   "source": [
    "from niwidgets import NiWidget\n",
    "import nilearn.plotting as nip\n",
    "import warnings\n",
    "warnings.filterwarnings('ignore')"
   ]
  },
  {
   "cell_type": "code",
   "execution_count": 2,
   "metadata": {
    "collapsed": false,
    "deletable": true,
    "editable": true
   },
   "outputs": [
    {
     "data": {
      "application/vnd.jupyter.widget-view+json": {
       "model_id": "c492763b0e4045e58d23d8fd5d2d606c"
      }
     },
     "metadata": {},
     "output_type": "display_data"
    }
   ],
   "source": [
    "# Let's try a simple parcellation map from a standard atlas\n",
    "from niwidgets import exampleatlas\n",
    "test = NiWidget(exampleatlas)\n",
    "test.nifti_plotter()"
   ]
  },
  {
   "cell_type": "markdown",
   "metadata": {
    "deletable": true,
    "editable": true
   },
   "source": [
    "### Use standard plotting functions\n",
    "\n",
    "`niwidgets` let's you turn standard plots from the nilearn package into widgets. You can use any of them, and provide your own keyword arguments to set the slider options (if no key word argument is provided defaults are used.\n",
    "\n",
    "#### Glass Brain Plot\n",
    "\n",
    "This is an example of a glass brain plot with a standard visual perception activation map from neurosynth."
   ]
  },
  {
   "cell_type": "code",
   "execution_count": 3,
   "metadata": {
    "collapsed": false,
    "deletable": true,
    "editable": true
   },
   "outputs": [
    {
     "data": {
      "application/vnd.jupyter.widget-view+json": {
       "model_id": "0f9e158d4c844de3acab7383a9f3fadf"
      }
     },
     "metadata": {},
     "output_type": "display_data"
    }
   ],
   "source": [
    "from niwidgets import examplezmap\n",
    "test = NiWidget(examplezmap)\n",
    "test.nifti_plotter(plotting_func=nip.plot_glass_brain,\n",
    "                   threshold=(0.0, 10.0, 0.01),\n",
    "                   display_mode=['ortho','xz'],\n",
    "                   colormap='viridis')"
   ]
  },
  {
   "cell_type": "markdown",
   "metadata": {},
   "source": [
    "#### Image slicer that ships with nilearn\n",
    "\n",
    "Also using an example T1 data set."
   ]
  },
  {
   "cell_type": "code",
   "execution_count": 4,
   "metadata": {
    "collapsed": false,
    "deletable": true,
    "editable": true
   },
   "outputs": [
    {
     "data": {
      "application/vnd.jupyter.widget-view+json": {
       "model_id": "b82bfd32935d44449c74087b3d598612"
      }
     },
     "metadata": {},
     "output_type": "display_data"
    }
   ],
   "source": [
    "from niwidgets import examplet1\n",
    "test = NiWidget(examplet1)\n",
    "test.nifti_plotter(plotting_func=nip.plot_img, display_mode=['ortho', 'x', 'y', 'z'], colormap='hot')"
   ]
  }
 ],
 "metadata": {
  "kernelspec": {
   "display_name": "Python 2",
   "language": "python",
   "name": "python2"
  },
  "language_info": {
   "codemirror_mode": {
    "name": "ipython",
    "version": 2
   },
   "file_extension": ".py",
   "mimetype": "text/x-python",
   "name": "python",
   "nbconvert_exporter": "python",
   "pygments_lexer": "ipython2",
   "version": "2.7.12"
  },
  "widgets": {
   "state": {
    "564451707c714709a6ceab22735bd1e8": {
     "views": [
      {
       "cell_index": 1
      }
     ]
    },
    "81d0db33e98a440c954abe7ce3f5bee4": {
     "views": [
      {
       "cell_index": 4
      }
     ]
    },
    "d1e35c2c57584483992c16960bbe2019": {
     "views": [
      {
       "cell_index": 4
      }
     ]
    },
    "f280d7a629bb4aedbf5b4eae89ee5f16": {
     "views": [
      {
       "cell_index": 5
      }
     ]
    }
   },
   "version": "1.2.0"
  }
 },
 "nbformat": 4,
 "nbformat_minor": 2
}
