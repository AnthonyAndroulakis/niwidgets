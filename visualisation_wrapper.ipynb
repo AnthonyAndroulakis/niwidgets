{
 "cells": [
  {
   "cell_type": "code",
   "execution_count": 11,
   "metadata": {
    "collapsed": false,
    "deletable": true,
    "editable": true
   },
   "outputs": [],
   "source": [
    "from niwidgets import NiWidget"
   ]
  },
  {
   "cell_type": "code",
   "execution_count": 12,
   "metadata": {
    "collapsed": false,
    "deletable": true,
    "editable": true
   },
   "outputs": [
    {
     "data": {
      "application/vnd.jupyter.widget-view+json": {
       "model_id": "f76b4e14bec84a808a831c156b316c58"
      }
     },
     "metadata": {},
     "output_type": "display_data"
    }
   ],
   "source": [
    "test = NiWidget('cc400_roi_atlas.nii')\n",
    "test.nifti_plotter()"
   ]
  },
  {
   "cell_type": "markdown",
   "metadata": {
    "deletable": true,
    "editable": true
   },
   "source": [
    "### Glass Brain Plot\n",
    "\n",
    "I think this allows you to pass custom arguments but doesn't fail if there are none\n",
    "\n",
    "What I did was create a tiny wrapper function that \"forwards\" all the arguments to the plotting function. I also made the plotting_func a `self.` property that is now accessible by subfunctions since they always get passed `self` anyways."
   ]
  },
  {
   "cell_type": "code",
   "execution_count": 13,
   "metadata": {
    "collapsed": false,
    "deletable": true,
    "editable": true
   },
   "outputs": [
    {
     "data": {
      "application/vnd.jupyter.widget-view+json": {
       "model_id": "2b3cfc41dc8d48689c78558af8efd6b6"
      }
     },
     "metadata": {},
     "output_type": "display_data"
    }
   ],
   "source": [
    "# With kwargs\n",
    "test = NiWidget('cc400_roi_atlas.nii')\n",
    "test.nifti_plotter(plotting_func=nip.plot_glass_brain, threshold=(0,400), display_mode=['ortho','xz'])"
   ]
  },
  {
   "cell_type": "code",
   "execution_count": 20,
   "metadata": {
    "collapsed": false
   },
   "outputs": [
    {
     "data": {
      "application/vnd.jupyter.widget-view+json": {
       "model_id": "4cfda04c14da47e18fd1705d27a1989a"
      }
     },
     "metadata": {},
     "output_type": "display_data"
    }
   ],
   "source": [
    "test = NiWidget('cc400_roi_atlas.nii')\n",
    "test.nifti_plotter(plotting_func=nip.plot_img, display_mode=['ortho', 'x', 'y', 'z'])"
   ]
  }
 ],
 "metadata": {
  "kernelspec": {
   "display_name": "Python 2",
   "language": "python",
   "name": "python2"
  },
  "language_info": {
   "codemirror_mode": {
    "name": "ipython",
    "version": 2
   },
   "file_extension": ".py",
   "mimetype": "text/x-python",
   "name": "python",
   "nbconvert_exporter": "python",
   "pygments_lexer": "ipython2",
   "version": "2.7.12"
  },
  "widgets": {
   "state": {
    "564451707c714709a6ceab22735bd1e8": {
     "views": [
      {
       "cell_index": 1
      }
     ]
    },
    "81d0db33e98a440c954abe7ce3f5bee4": {
     "views": [
      {
       "cell_index": 4
      }
     ]
    },
    "d1e35c2c57584483992c16960bbe2019": {
     "views": [
      {
       "cell_index": 4
      }
     ]
    },
    "f280d7a629bb4aedbf5b4eae89ee5f16": {
     "views": [
      {
       "cell_index": 5
      }
     ]
    }
   },
   "version": "1.2.0"
  }
 },
 "nbformat": 4,
 "nbformat_minor": 2
}
