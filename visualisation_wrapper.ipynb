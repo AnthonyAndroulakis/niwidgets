{
 "cells": [
  {
   "cell_type": "code",
   "execution_count": 1,
   "metadata": {},
   "outputs": [
    {
     "name": "stderr",
     "output_type": "stream",
     "text": [
      "/Library/anaconda/envs/py36/lib/python3.6/site-packages/sklearn/cross_validation.py:44: DeprecationWarning: This module was deprecated in version 0.18 in favor of the model_selection module into which all the refactored classes and functions are moved. Also note that the interface of the new CV iterators are different from that of this module. This module will be removed in 0.20.\n",
      "  \"This module will be removed in 0.20.\", DeprecationWarning)\n"
     ]
    }
   ],
   "source": [
    "from niwidgets import NiWidget\n",
    "import nilearn.plotting as nip\n",
    "import warnings\n",
    "warnings.filterwarnings('ignore')"
   ]
  },
  {
   "cell_type": "code",
   "execution_count": 2,
   "metadata": {},
   "outputs": [
    {
     "data": {
      "application/vnd.jupyter.widget-view+json": {
       "model_id": "c0ba905b66704911b5c83d5f1596fbbc"
      }
     },
     "metadata": {},
     "output_type": "display_data"
    }
   ],
   "source": [
    "# Let's try a simple parcellation map from a standard atlas\n",
    "from niwidgets import exampleatlas\n",
    "test = NiWidget(exampleatlas)\n",
    "test.nifti_plotter()"
   ]
  },
  {
   "cell_type": "markdown",
   "metadata": {},
   "source": [
    "### Use standard plotting functions\n",
    "\n",
    "`niwidgets` let's you turn standard plots from the nilearn package into widgets. You can use any of them, and provide your own keyword arguments to set the slider options (if no key word argument is provided defaults are used.\n",
    "\n",
    "#### same atlas with nilearn plotting function"
   ]
  },
  {
   "cell_type": "code",
   "execution_count": 3,
   "metadata": {},
   "outputs": [
    {
     "data": {
      "application/vnd.jupyter.widget-view+json": {
       "model_id": "2ad7de2d6c804859a2f23ed5fc0c7869"
      }
     },
     "metadata": {},
     "output_type": "display_data"
    }
   ],
   "source": [
    "test.custom_plotter(plotting_func=nip.plot_epi,\n",
    "                   display_mode=['ortho', 'x', 'y', 'z', 'yx', 'xz', 'yz'])"
   ]
  },
  {
   "cell_type": "markdown",
   "metadata": {},
   "source": [
    "#### Glass Brain Plot\n",
    "\n",
    "This is an example of a glass brain plot with a standard visual perception activation map from neurosynth."
   ]
  },
  {
   "cell_type": "code",
   "execution_count": 4,
   "metadata": {},
   "outputs": [
    {
     "data": {
      "application/vnd.jupyter.widget-view+json": {
       "model_id": "520e618c4d4446719d8fc7f730592ab8"
      }
     },
     "metadata": {},
     "output_type": "display_data"
    }
   ],
   "source": [
    "from niwidgets import examplezmap\n",
    "test = NiWidget(examplezmap)\n",
    "test.nifti_plotter(plotting_func=nip.plot_glass_brain,\n",
    "                   threshold=(0.0, 10.0, 0.01),\n",
    "                   display_mode=['ortho','xz'],\n",
    "                   colormap='viridis')"
   ]
  },
  {
   "cell_type": "markdown",
   "metadata": {},
   "source": [
    "#### Image slicer that ships with nilearn\n",
    "\n",
    "Also using an example T1 data set."
   ]
  },
  {
   "cell_type": "code",
   "execution_count": 5,
   "metadata": {},
   "outputs": [],
   "source": [
    "from niwidgets import examplet1\n",
    "test = NiWidget(examplet1)"
   ]
  },
  {
   "cell_type": "code",
   "execution_count": 6,
   "metadata": {},
   "outputs": [
    {
     "data": {
      "application/vnd.jupyter.widget-view+json": {
       "model_id": "eb0369dd55df4c1a943d63a2eaaf4c06"
      }
     },
     "metadata": {},
     "output_type": "display_data"
    }
   ],
   "source": [
    "#with niwidgets built-in\n",
    "test.nifti_plotter(display_mode=['ortho', 'x', 'y', 'z'], colormap='hot')"
   ]
  },
  {
   "cell_type": "code",
   "execution_count": 7,
   "metadata": {},
   "outputs": [
    {
     "data": {
      "application/vnd.jupyter.widget-view+json": {
       "model_id": "d837d596cf904e7da658b34d3e66eb81"
      }
     },
     "metadata": {},
     "output_type": "display_data"
    }
   ],
   "source": [
    "#with nilearn plot_ing\n",
    "#TO DO: build wrapper around cut_coords (needs to be passed as tuple)\n",
    "test.nifti_plotter(plotting_func=nip.plot_img, display_mode=['ortho', 'x', 'y', 'z'], colormap='hot')"
   ]
  },
  {
   "cell_type": "markdown",
   "metadata": {},
   "source": [
    "### using another nilearn example dataset"
   ]
  },
  {
   "cell_type": "code",
   "execution_count": 9,
   "metadata": {},
   "outputs": [
    {
     "name": "stdout",
     "output_type": "stream",
     "text": [
      "Atlas ROIs are located at: /Applications/FSL.app/fsl/data/atlases/HarvardOxford/HarvardOxford-cort-maxprob-thr25-2mm.nii.gz\n"
     ]
    },
    {
     "data": {
      "application/vnd.jupyter.widget-view+json": {
       "model_id": "38f0cecb99f54ec390b5fcdd7691b1e8"
      }
     },
     "metadata": {},
     "output_type": "display_data"
    }
   ],
   "source": [
    "from nilearn import datasets\n",
    "dataset = datasets.fetch_atlas_harvard_oxford('cort-maxprob-thr25-2mm')\n",
    "atlas_filename = dataset.maps\n",
    "print('Atlas ROIs are located at: %s' % atlas_filename)\n",
    "\n",
    "test = NiWidget(atlas_filename)\n",
    "testfunc = nip.plot_roi\n",
    "#plot function keyword arguments can also be specified in a dictionary\n",
    "kwarg_dict = {'display_mode': ['ortho', 'x', 'y', 'z', 'yx', 'xz', 'yz'],\n",
    "             'vmin': (0,100),\n",
    "             'vmax': (0,100)}\n",
    "\n",
    "test.nifti_plotter(testfunc, **kwarg_dict)"
   ]
  },
  {
   "cell_type": "code",
   "execution_count": null,
   "metadata": {
    "collapsed": true
   },
   "outputs": [],
   "source": []
  }
 ],
 "metadata": {
  "kernelspec": {
   "display_name": "Python 3",
   "language": "python",
   "name": "python3"
  },
  "language_info": {
   "codemirror_mode": {
    "name": "ipython",
    "version": 3
   },
   "file_extension": ".py",
   "mimetype": "text/x-python",
   "name": "python",
   "nbconvert_exporter": "python",
   "pygments_lexer": "ipython3",
   "version": "3.6.2"
  },
  "widgets": {
   "state": {
    "09e2b062ef1f40349ff9fd0430cdb4ac": {
     "views": [
      {
       "cell_index": 9
      }
     ]
    },
    "62465abbe3174930925ffb39f8515e58": {
     "views": [
      {
       "cell_index": 5
      }
     ]
    },
    "77b3f2c9225a4a4ea9030c39541da46a": {
     "views": [
      {
       "cell_index": 8
      }
     ]
    },
    "7bd1d828bb2a41adb135847c67b98599": {
     "views": [
      {
       "cell_index": 11
      }
     ]
    },
    "bdad5dff1e184bf0a7aaed42748b058c": {
     "views": [
      {
       "cell_index": 1
      }
     ]
    },
    "dbd3ce8286d549eabe02726263ecb2d0": {
     "views": [
      {
       "cell_index": 3
      }
     ]
    }
   },
   "version": "1.2.0"
  }
 },
 "nbformat": 4,
 "nbformat_minor": 2
}
