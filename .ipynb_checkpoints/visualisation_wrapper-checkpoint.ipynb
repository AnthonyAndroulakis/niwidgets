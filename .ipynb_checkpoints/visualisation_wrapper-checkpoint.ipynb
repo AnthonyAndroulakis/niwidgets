{
 "cells": [
  {
   "cell_type": "code",
   "execution_count": 2,
   "metadata": {
    "collapsed": false,
    "deletable": true,
    "editable": true
   },
   "outputs": [],
   "source": [
    "from niwidgets import NiWidget\n",
    "import nilearn.plotting as nip\n",
    "import warnings\n",
    "warnings.filterwarnings('ignore')"
   ]
  },
  {
   "cell_type": "code",
   "execution_count": 3,
   "metadata": {
    "collapsed": false,
    "deletable": true,
    "editable": true
   },
   "outputs": [
    {
     "data": {
      "application/vnd.jupyter.widget-view+json": {
       "model_id": "ef26449af4bd4eb9acf4fd7881bc4719"
      }
     },
     "metadata": {},
     "output_type": "display_data"
    }
   ],
   "source": [
    "# Let's try a simple parcellation map from a standard atlas\n",
    "from niwidgets import exampleatlas\n",
    "test = NiWidget(exampleatlas)\n",
    "test.nifti_plotter()"
   ]
  },
  {
   "cell_type": "markdown",
   "metadata": {
    "deletable": true,
    "editable": true
   },
   "source": [
    "### Use standard plotting functions\n",
    "\n",
    "`niwidgets` let's you turn standard plots from the nilearn package into widgets. You can use any of them, and provide your own keyword arguments to set the slider options (if no key word argument is provided defaults are used.\n",
    "\n",
    "#### Glass Brain Plot\n",
    "\n",
    "This is an example of a glass brain plot with a standard visual perception activation map from neurosynth."
   ]
  },
  {
   "cell_type": "code",
   "execution_count": 3,
   "metadata": {
    "collapsed": false,
    "deletable": true,
    "editable": true
   },
   "outputs": [
    {
     "data": {
      "application/vnd.jupyter.widget-view+json": {
       "model_id": "0f9e158d4c844de3acab7383a9f3fadf"
      }
     },
     "metadata": {},
     "output_type": "display_data"
    }
   ],
   "source": [
    "from niwidgets import examplezmap\n",
    "test = NiWidget(examplezmap)\n",
    "test.nifti_plotter(plotting_func=nip.plot_glass_brain,\n",
    "                   threshold=(0.0, 10.0, 0.01),\n",
    "                   display_mode=['ortho','xz'],\n",
    "                   colormap='viridis')"
   ]
  },
  {
   "cell_type": "markdown",
   "metadata": {
    "deletable": true,
    "editable": true
   },
   "source": [
    "#### Image slicer that ships with nilearn\n",
    "\n",
    "Also using an example T1 data set."
   ]
  },
  {
   "cell_type": "code",
   "execution_count": 4,
   "metadata": {
    "collapsed": false,
    "deletable": true,
    "editable": true
   },
   "outputs": [
    {
     "data": {
      "application/vnd.jupyter.widget-view+json": {
       "model_id": "b82bfd32935d44449c74087b3d598612"
      }
     },
     "metadata": {},
     "output_type": "display_data"
    }
   ],
   "source": [
    "from niwidgets import examplet1\n",
    "test = NiWidget(examplet1)\n",
    "test.nifti_plotter(plotting_func=nip.plot_img, display_mode=['ortho', 'x', 'y', 'z'], colormap='hot')"
   ]
  }
 ],
 "metadata": {
  "kernelspec": {
   "display_name": "Python 3",
   "language": "python",
   "name": "python3"
  },
  "language_info": {
   "codemirror_mode": {
    "name": "ipython",
    "version": 3
   },
   "file_extension": ".py",
   "mimetype": "text/x-python",
   "name": "python",
   "nbconvert_exporter": "python",
   "pygments_lexer": "ipython3",
   "version": "3.5.1"
  },
  "widgets": {
   "application/vnd.jupyter.widget-state+json": {
    "state": {
     "2ec4a6ed96f4406ba6dfee76e1fda5f2": {
      "model_module": "jupyter-js-widgets",
      "model_module_version": "~2.1.4",
      "model_name": "SliderStyleModel",
      "state": {
       "_model_module_version": "~2.1.4",
       "_view_module_version": "~2.1.4"
      }
     },
     "51652a3f12824a8486789468b429598e": {
      "model_module": "jupyter-js-widgets",
      "model_module_version": "~2.1.4",
      "model_name": "IntSliderModel",
      "state": {
       "_model_module_version": "~2.1.4",
       "_view_module_version": "~2.1.4",
       "description": "y",
       "layout": "IPY_MODEL_ac8afc6a2c9743c49ffc7cd7132d351c",
       "max": 74,
       "style": "IPY_MODEL_9c4d22f6407d4816a02ac01a8db4ca62",
       "value": 37
      }
     },
     "7f5fd70e21f34a5b974e0453dd13b2aa": {
      "model_module": "jupyter-js-widgets",
      "model_module_version": "~2.1.4",
      "model_name": "LayoutModel",
      "state": {
       "_model_module_version": "~2.1.4",
       "_view_module_version": "~2.1.4"
      }
     },
     "9c4d22f6407d4816a02ac01a8db4ca62": {
      "model_module": "jupyter-js-widgets",
      "model_module_version": "~2.1.4",
      "model_name": "SliderStyleModel",
      "state": {
       "_model_module_version": "~2.1.4",
       "_view_module_version": "~2.1.4"
      }
     },
     "ac80531c76854164addbc22a76db1c11": {
      "model_module": "jupyter-js-widgets",
      "model_module_version": "~2.1.4",
      "model_name": "SliderStyleModel",
      "state": {
       "_model_module_version": "~2.1.4",
       "_view_module_version": "~2.1.4"
      }
     },
     "ac8afc6a2c9743c49ffc7cd7132d351c": {
      "model_module": "jupyter-js-widgets",
      "model_module_version": "~2.1.4",
      "model_name": "LayoutModel",
      "state": {
       "_model_module_version": "~2.1.4",
       "_view_module_version": "~2.1.4"
      }
     },
     "b1659b2ce7cd4e47a2dac6bef077226d": {
      "model_module": "jupyter-js-widgets",
      "model_module_version": "~2.1.4",
      "model_name": "IntSliderModel",
      "state": {
       "_model_module_version": "~2.1.4",
       "_view_module_version": "~2.1.4",
       "description": "z",
       "layout": "IPY_MODEL_ce6fd9297f0c44b1b1fd0c2c60bc6ab0",
       "max": 60,
       "style": "IPY_MODEL_2ec4a6ed96f4406ba6dfee76e1fda5f2",
       "value": 30
      }
     },
     "b6c18a109ffa40a5ad03fa837a47081a": {
      "model_module": "jupyter-js-widgets",
      "model_module_version": "~2.1.4",
      "model_name": "IntSliderModel",
      "state": {
       "_model_module_version": "~2.1.4",
       "_view_module_version": "~2.1.4",
       "description": "x",
       "layout": "IPY_MODEL_efc61371e81740d8b3ac0b6f9164b49d",
       "max": 62,
       "style": "IPY_MODEL_ac80531c76854164addbc22a76db1c11",
       "value": 31
      }
     },
     "ce6fd9297f0c44b1b1fd0c2c60bc6ab0": {
      "model_module": "jupyter-js-widgets",
      "model_module_version": "~2.1.4",
      "model_name": "LayoutModel",
      "state": {
       "_model_module_version": "~2.1.4",
       "_view_module_version": "~2.1.4"
      }
     },
     "e5d072f701d84e96ba92a89734f0e423": {
      "model_module": "jupyter-js-widgets",
      "model_module_version": "~2.1.4",
      "model_name": "LayoutModel",
      "state": {
       "_model_module_version": "~2.1.4",
       "_view_module_version": "~2.1.4"
      }
     },
     "e9e2942af1094446baef37e9b76faf07": {
      "model_module": "jupyter-js-widgets",
      "model_module_version": "~2.1.4",
      "model_name": "LayoutModel",
      "state": {
       "_model_module_version": "~2.1.4",
       "_view_module_version": "~2.1.4"
      }
     },
     "ed580fc1e657423b9557c9fdc0d85a3c": {
      "model_module": "jupyter-js-widgets",
      "model_module_version": "~2.1.4",
      "model_name": "OutputModel",
      "state": {
       "_dom_classes": [],
       "_model_module": "jupyter-js-widgets",
       "_model_module_version": "~2.1.4",
       "_view_module": "jupyter-js-widgets",
       "_view_module_version": "~2.1.4",
       "layout": "IPY_MODEL_e5d072f701d84e96ba92a89734f0e423",
       "msg_throttle": 1
      }
     },
     "ef26449af4bd4eb9acf4fd7881bc4719": {
      "model_module": "jupyter-js-widgets",
      "model_module_version": "~2.1.4",
      "model_name": "VBoxModel",
      "state": {
       "_dom_classes": [
        "widget-interact"
       ],
       "_model_module_version": "~2.1.4",
       "_view_module_version": "~2.1.4",
       "children": [
        "IPY_MODEL_b6c18a109ffa40a5ad03fa837a47081a",
        "IPY_MODEL_51652a3f12824a8486789468b429598e",
        "IPY_MODEL_b1659b2ce7cd4e47a2dac6bef077226d",
        "IPY_MODEL_f13d36e4b3434cb39d584e48fb636538",
        "IPY_MODEL_ed580fc1e657423b9557c9fdc0d85a3c"
       ],
       "layout": "IPY_MODEL_e9e2942af1094446baef37e9b76faf07"
      }
     },
     "efc61371e81740d8b3ac0b6f9164b49d": {
      "model_module": "jupyter-js-widgets",
      "model_module_version": "~2.1.4",
      "model_name": "LayoutModel",
      "state": {
       "_model_module_version": "~2.1.4",
       "_view_module_version": "~2.1.4"
      }
     },
     "f13d36e4b3434cb39d584e48fb636538": {
      "model_module": "jupyter-js-widgets",
      "model_module_version": "~2.1.4",
      "model_name": "DropdownModel",
      "state": {
       "_model_module_version": "~2.1.4",
       "_options_labels": [
        "viridis",
        "Accent",
        "Blues",
        "BrBG",
        "BuGn",
        "BuPu",
        "CMRmap",
        "Dark2",
        "GnBu",
        "Greens",
        "Greys",
        "OrRd",
        "Oranges",
        "PRGn",
        "Paired",
        "Pastel1",
        "Pastel2",
        "PiYG",
        "PuBu",
        "PuBuGn",
        "PuOr",
        "PuRd",
        "Purples",
        "RdBu",
        "RdGy",
        "RdPu",
        "RdYlBu",
        "RdYlGn",
        "Reds",
        "Set1",
        "Set2",
        "Set3",
        "Spectral",
        "Vega10",
        "Vega20",
        "Vega20b",
        "Vega20c",
        "Wistia",
        "YlGn",
        "YlGnBu",
        "YlOrBr",
        "YlOrRd",
        "afmhot",
        "autumn",
        "binary",
        "bone",
        "brg",
        "bwr",
        "cool",
        "coolwarm",
        "copper",
        "cubehelix",
        "flag",
        "gist_earth",
        "gist_gray",
        "gist_heat",
        "gist_ncar",
        "gist_rainbow",
        "gist_stern",
        "gist_yarg",
        "gnuplot",
        "gnuplot2",
        "gray",
        "hot",
        "hsv",
        "jet",
        "nipy_spectral",
        "ocean",
        "pink",
        "prism",
        "rainbow",
        "seismic",
        "spectral",
        "spring",
        "summer",
        "terrain",
        "winter"
       ],
       "_view_module_version": "~2.1.4",
       "description": "colormap",
       "layout": "IPY_MODEL_7f5fd70e21f34a5b974e0453dd13b2aa",
       "value": "viridis"
      }
     }
    },
    "version_major": 1,
    "version_minor": 0
   }
  }
 },
 "nbformat": 4,
 "nbformat_minor": 2
}
